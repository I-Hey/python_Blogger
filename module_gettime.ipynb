{
 "cells": [
  {
   "cell_type": "markdown",
   "metadata": {},
   "source": [
    "Example 1: Python get today's date"
   ]
  },
  {
   "cell_type": "code",
   "execution_count": 1,
   "metadata": {},
   "outputs": [
    {
     "name": "stdout",
     "output_type": "stream",
     "text": [
      "Today's date: 2021-12-15\n"
     ]
    }
   ],
   "source": [
    "from datetime import date\n",
    "\n",
    "today = date.today()\n",
    "print(\"Today's date:\", today)"
   ]
  },
  {
   "cell_type": "markdown",
   "metadata": {},
   "source": [
    "Example 2: Current date in different formats"
   ]
  },
  {
   "cell_type": "code",
   "execution_count": 2,
   "metadata": {},
   "outputs": [
    {
     "name": "stdout",
     "output_type": "stream",
     "text": [
      "d1 = 15/12/2021\n",
      "d2 = December 15, 2021\n",
      "d3 = 12/15/21\n",
      "d4 = Dec-15-2021\n"
     ]
    }
   ],
   "source": [
    "from datetime import date\n",
    "\n",
    "today = date.today()\n",
    "\n",
    "# dd/mm/YY\n",
    "d1 = today.strftime(\"%d/%m/%Y\")\n",
    "print(\"d1 =\", d1)\n",
    "\n",
    "# Textual month, day and year\t\n",
    "d2 = today.strftime(\"%B %d, %Y\")\n",
    "print(\"d2 =\", d2)\n",
    "\n",
    "# mm/dd/y\n",
    "d3 = today.strftime(\"%m/%d/%y\")\n",
    "print(\"d3 =\", d3)\n",
    "\n",
    "# Month abbreviation, day and year\t\n",
    "d4 = today.strftime(\"%b-%d-%Y\")\n",
    "print(\"d4 =\", d4)\n"
   ]
  },
  {
   "cell_type": "markdown",
   "metadata": {},
   "source": [
    "Example 3: Get the current date and time"
   ]
  },
  {
   "cell_type": "code",
   "execution_count": 3,
   "metadata": {},
   "outputs": [
    {
     "name": "stdout",
     "output_type": "stream",
     "text": [
      "now = 2021-12-15 16:16:48.471886\n",
      "date and time = 15/12/2021 16:16:48\n"
     ]
    }
   ],
   "source": [
    "from datetime import datetime\n",
    "\n",
    "# datetime object containing current date and time\n",
    "now = datetime.now()\n",
    " \n",
    "print(\"now =\", now)\n",
    "\n",
    "# dd/mm/YY H:M:S\n",
    "dt_string = now.strftime(\"%d/%m/%Y %H:%M:%S\")\n",
    "print(\"date and time =\", dt_string)\t\n"
   ]
  }
 ],
 "metadata": {
  "interpreter": {
   "hash": "f8e539fe78d32361d0c724de70a5b8faff102bcb7b6226872312ab1ba38ba69e"
  },
  "kernelspec": {
   "display_name": "Python 3.9.6 64-bit",
   "language": "python",
   "name": "python3"
  },
  "language_info": {
   "codemirror_mode": {
    "name": "ipython",
    "version": 3
   },
   "file_extension": ".py",
   "mimetype": "text/x-python",
   "name": "python",
   "nbconvert_exporter": "python",
   "pygments_lexer": "ipython3",
   "version": "3.9.6"
  },
  "orig_nbformat": 4
 },
 "nbformat": 4,
 "nbformat_minor": 2
}
