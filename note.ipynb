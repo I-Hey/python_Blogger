{
 "cells": [
  {
   "cell_type": "code",
   "execution_count": 49,
   "metadata": {},
   "outputs": [],
   "source": [
    "from docx import Document\n",
    "from docx.oxml.ns import qn\n",
    "from docx.enum.text import WD_TAB_ALIGNMENT,WD_TAB_LEADER,WD_ALIGN_PARAGRAPH\n",
    "from docx.shared import Cm, Pt\n",
    "from docx.enum.style import WD_STYLE_TYPE\n",
    "from docx import shared\n"
   ]
  },
  {
   "cell_type": "code",
   "execution_count": 50,
   "metadata": {},
   "outputs": [],
   "source": [
    "\n",
    "title = input(\"請輸大標題: \\n\")\n",
    "text1 = input(\"請輸入段落: \\n\")\n",
    "subtitle1 = input(\"請輸入子標題: \\n\")\n",
    "subtitle2 = input(\"請輸入子標題: \\n\")\n",
    "subtitle3 = input(\"請輸入子標題: \\n\")\n",
    "subtitle4 = input(\"請輸入子標題: \\n\")\n",
    "\n",
    "p1_text = input(\"請輸入內文1: \\n\")\n",
    "p2_text = input(\"請輸入內文2: \\n\")\n",
    "p3_text = input(\"請輸入內文3: \\n\")\n",
    "p4_text = input(\"請輸入內文4: \\n\")\n",
    "    \n",
    "    "
   ]
  },
  {
   "cell_type": "code",
   "execution_count": 55,
   "metadata": {},
   "outputs": [],
   "source": [
    "doc = Document()\n",
    "\n",
    "section = doc.sections[0]\n",
    "section.left_margin=Cm(1.27)\n",
    "section.right_margin=Cm(1.27)\n",
    "section.top_margin=Cm(1.27)\n",
    "section.bottom_margin=Cm(1.27)\n",
    "\n",
    "doc.styles['Normal'].font.name = 'Arial'\n",
    "doc.styles['Normal']._element.rPr.rFonts.set(qn('w:eastAsia'), u'標楷體')\n",
    "\n",
    "\n",
    "\n",
    "t1 = doc.add_heading(f'{title}', level = 1)\n",
    "\n",
    "t_text = doc.add_paragraph(f'{text1}',style='List Number')\n",
    "\n",
    "\n",
    "sub1 = doc.add_paragraph(f'{subtitle1}', style='List Number')\n",
    "sub2 = doc.add_paragraph(f'{subtitle2}', style='List Number')\n",
    "sub3 = doc.add_paragraph(f'{subtitle3}', style='List Number')\n",
    "sub4 = doc.add_paragraph(f'{subtitle4}', style='List Number')\n",
    "\n",
    "\n",
    "sub1 = doc.add_paragraph(f'{subtitle1}', style='List Number')\n",
    "p1 = doc.add_paragraph(f'{subtitle1}', style = 'List Bullet')\n",
    "p1_1 = doc.add_paragraph(f'{p1_text}')\n",
    "p1_1.style.font.size = Pt(12)\n",
    "\n",
    "sub2 = doc.add_paragraph(f'{subtitle2}', style='List Number')\n",
    "p2 = doc.add_paragraph(f'{subtitle2}', style = 'List Bullet')\n",
    "p2_1 = doc.add_paragraph(f'{p2_text}')\n",
    "p2_1.style.font.size = Pt(12)\n",
    "\n",
    "sub3 = doc.add_paragraph(f'{subtitle3}', style='List Number')\n",
    "p3 = doc.add_paragraph(f'{subtitle3}', style = 'List Bullet')\n",
    "p3_1 = doc.add_paragraph(f'{p3_text}')\n",
    "p3_1.style.font.size = Pt(12)\n",
    "\n",
    "sub4 = doc.add_paragraph(f'{subtitle4}', style='List Number')\n",
    "p4 = doc.add_paragraph(f'{subtitle3}', style = 'List Bullet')\n",
    "p4_1 = doc.add_paragraph(f'{p3_text}')\n",
    "p4_1.style.font.size = Pt(12)\n"
   ]
  },
  {
   "cell_type": "code",
   "execution_count": 52,
   "metadata": {},
   "outputs": [],
   "source": [
    "doc.save(f'{title}.docx')"
   ]
  }
 ],
 "metadata": {
  "interpreter": {
   "hash": "400da6b0a5470255894a22f6f7233b85c16352a7444f29396fdb943ab6fc686f"
  },
  "kernelspec": {
   "display_name": "Python 3.10.0 64-bit",
   "name": "python3"
  },
  "language_info": {
   "codemirror_mode": {
    "name": "ipython",
    "version": 3
   },
   "file_extension": ".py",
   "mimetype": "text/x-python",
   "name": "python",
   "nbconvert_exporter": "python",
   "pygments_lexer": "ipython3",
   "version": "3.10.0"
  },
  "orig_nbformat": 4
 },
 "nbformat": 4,
 "nbformat_minor": 2
}
