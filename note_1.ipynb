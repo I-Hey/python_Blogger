{
 "cells": [
  {
   "cell_type": "code",
   "execution_count": 1,
   "metadata": {},
   "outputs": [],
   "source": [
    "from docx import Document\n",
    "from docx.oxml.ns import qn\n",
    "from docx.enum.text import WD_TAB_ALIGNMENT,WD_TAB_LEADER,WD_ALIGN_PARAGRAPH\n",
    "from docx.shared import Cm, Pt\n",
    "from docx.enum.style import WD_STYLE_TYPE\n",
    "from docx import shared"
   ]
  },
  {
   "cell_type": "code",
   "execution_count": 2,
   "metadata": {},
   "outputs": [],
   "source": [
    "# 開頭簡介\n",
    "title = input(\"請輸大標題: \\n\")\n",
    "text1 = input(\"請輸入摘要介紹: \\n\")\n",
    "text2 = input(\"請輸入標題: \\n\")\n",
    "p1 = input(\"list 1: \\n\")\n",
    "p2 = input(\"list 2: \\n\")\n",
    "p3 = input(\"list 3: \\n\")\n",
    "p4 = input('請輸入簡介補充文字: \\n')\n",
    "\n",
    "# 分項介紹\n",
    "list1 = input('請輸入分項說明1: \\n')\n",
    "list2 = input('請輸入分項說明2: \\n')\n",
    "list3 = input('請輸入分項說明3: \\n')\n",
    "list4 = input('請輸入分項說明4: \\n')\n"
   ]
  },
  {
   "cell_type": "code",
   "execution_count": 3,
   "metadata": {},
   "outputs": [],
   "source": [
    "doc = Document()\n",
    "\n",
    "section = doc.sections[0]\n",
    "section.left_margin=Cm(1.27)\n",
    "section.right_margin=Cm(1.27)\n",
    "section.top_margin=Cm(1.27)\n",
    "section.bottom_margin=Cm(1.27)\n",
    "\n",
    "doc.styles['Normal'].font.name = 'Time News Roman'\n",
    "doc.styles['Normal']._element.rPr.rFonts.set(qn('w:eastAsia'), u'標楷體')"
   ]
  },
  {
   "cell_type": "code",
   "execution_count": 4,
   "metadata": {},
   "outputs": [],
   "source": [
    "# 簡介\n",
    "t1 = doc.add_heading(f\"Python筆記~{title}~\")\n",
    "t1_text = doc.add_paragraph(f'  {text1}')\n",
    "t1_text1 = doc.add_paragraph(f'{text2}')\n",
    "t1_p1 = doc.add_paragraph(f'{p1}', style='List Number')\n",
    "t1_p2 = doc.add_paragraph(f'{p2}', style='List Number')\n",
    "t1_p3 = doc.add_paragraph(f'{p3}', style='List Number')\n",
    "t1_p4 = doc.add_paragraph(f'{p4}')\n",
    "\n",
    "# 插入空白列\n",
    "empty_p = doc.add_paragraph('')\n",
    "empty_p = doc.add_paragraph('')\n",
    "\n",
    "# 分項介紹\n",
    "list_1 = doc.add_paragraph(f'{list1}', style='List Number')\n",
    "\n",
    "\n",
    "# 插入空白列\n",
    "empty_p = doc.add_paragraph('')\n",
    "empty_p = doc.add_paragraph('')\n",
    "\n",
    "list_2= doc.add_paragraph(f'{list2}', style='List Number')\n",
    "\n",
    "\n",
    "# 插入空白列\n",
    "empty_p = doc.add_paragraph('')\n",
    "empty_p = doc.add_paragraph('')\n",
    "\n",
    "list_3= doc.add_paragraph(f'{list3}', style='List Number')\n",
    "\n",
    "\n",
    "# 插入空白列\n",
    "empty_p = doc.add_paragraph('')\n",
    "empty_p = doc.add_paragraph('')\n",
    "\n",
    "list_4= doc.add_paragraph(f'{list4}', style='List Number')\n",
    "\n",
    "\n",
    "\n",
    "\n",
    "\n"
   ]
  },
  {
   "cell_type": "code",
   "execution_count": 5,
   "metadata": {},
   "outputs": [],
   "source": [
    "doc.save(f'python_{title}.docx')"
   ]
  }
 ],
 "metadata": {
  "interpreter": {
   "hash": "400da6b0a5470255894a22f6f7233b85c16352a7444f29396fdb943ab6fc686f"
  },
  "kernelspec": {
   "display_name": "Python 3.10.0 64-bit",
   "name": "python3"
  },
  "language_info": {
   "codemirror_mode": {
    "name": "ipython",
    "version": 3
   },
   "file_extension": ".py",
   "mimetype": "text/x-python",
   "name": "python",
   "nbconvert_exporter": "python",
   "pygments_lexer": "ipython3",
   "version": "3.8.12"
  },
  "orig_nbformat": 4
 },
 "nbformat": 4,
 "nbformat_minor": 2
}
